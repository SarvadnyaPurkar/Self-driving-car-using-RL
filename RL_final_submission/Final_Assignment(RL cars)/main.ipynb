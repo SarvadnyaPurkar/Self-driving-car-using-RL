{
 "cells": [
  {
   "cell_type": "code",
   "execution_count": 6,
   "id": "575784f7",
   "metadata": {},
   "outputs": [
    {
     "name": "stdout",
     "output_type": "stream",
     "text": [
      "Observation shape: (5, 5)\n"
     ]
    },
    {
     "name": "stderr",
     "output_type": "stream",
     "text": [
      "c:\\Users\\sarva\\AppData\\Local\\Programs\\Python\\Python313\\Lib\\site-packages\\highway_env\\envs\\common\\abstract.py:292: UserWarning: \u001b[33mWARN: You are calling render method without specifying any render mode. You can specify the render_mode at initialization, e.g. gym.make(\"highway-v0\", render_mode=\"rgb_array\")\u001b[0m\n",
      "  gym.logger.warn(\n"
     ]
    }
   ],
   "source": [
    "import gymnasium as gym\n",
    "import highway_env\n",
    "import numpy as np\n",
    "\n",
    "# Create the driving simulation environment\n",
    "env = gym.make(\"highway-v0\")\n",
    "obs, _ = env.reset()\n",
    "\n",
    "# Show the environment\n",
    "env.render()\n",
    "\n",
    "# Check observation shape\n",
    "print(\"Observation shape:\", obs.shape)\n"
   ]
  },
  {
   "cell_type": "code",
   "execution_count": null,
   "id": "10263e23",
   "metadata": {},
   "outputs": [
    {
     "name": "stdout",
     "output_type": "stream",
     "text": [
      "Using cpu device\n",
      "---------------------------------\n",
      "| rollout/           |          |\n",
      "|    ep_len_mean     | 16.1     |\n",
      "|    ep_rew_mean     | 12.4     |\n",
      "| time/              |          |\n",
      "|    fps             | 0        |\n",
      "|    iterations      | 1        |\n",
      "|    time_elapsed    | 3140     |\n",
      "|    total_timesteps | 2048     |\n",
      "---------------------------------\n",
      "-----------------------------------------\n",
      "| rollout/                |             |\n",
      "|    ep_len_mean          | 17.6        |\n",
      "|    ep_rew_mean          | 13.1        |\n",
      "| time/                   |             |\n",
      "|    fps                  | 0           |\n",
      "|    iterations           | 2           |\n",
      "|    time_elapsed         | 5539        |\n",
      "|    total_timesteps      | 4096        |\n",
      "| train/                  |             |\n",
      "|    approx_kl            | 0.014106459 |\n",
      "|    clip_fraction        | 0.178       |\n",
      "|    clip_range           | 0.2         |\n",
      "|    entropy_loss         | -1.6        |\n",
      "|    explained_variance   | 0.00261     |\n",
      "|    learning_rate        | 0.0003      |\n",
      "|    loss                 | 4.81        |\n",
      "|    n_updates            | 10          |\n",
      "|    policy_gradient_loss | -0.0175     |\n",
      "|    value_loss           | 15.2        |\n",
      "-----------------------------------------\n",
      "-----------------------------------------\n",
      "| rollout/                |             |\n",
      "|    ep_len_mean          | 19.1        |\n",
      "|    ep_rew_mean          | 14.2        |\n",
      "| time/                   |             |\n",
      "|    fps                  | 0           |\n",
      "|    iterations           | 3           |\n",
      "|    time_elapsed         | 7794        |\n",
      "|    total_timesteps      | 6144        |\n",
      "| train/                  |             |\n",
      "|    approx_kl            | 0.012841439 |\n",
      "|    clip_fraction        | 0.175       |\n",
      "|    clip_range           | 0.2         |\n",
      "|    entropy_loss         | -1.57       |\n",
      "|    explained_variance   | 0.0375      |\n",
      "|    learning_rate        | 0.0003      |\n",
      "|    loss                 | 11.6        |\n",
      "|    n_updates            | 20          |\n",
      "|    policy_gradient_loss | -0.0198     |\n",
      "|    value_loss           | 22          |\n",
      "-----------------------------------------\n"
     ]
    }
   ],
   "source": [
    "from stable_baselines3 import PPO\n",
    "from stable_baselines3.common.env_util import make_vec_env\n",
    "\n",
    "# PPO needs vectorized environments\n",
    "env = make_vec_env(lambda: gym.make(\"highway-v0\"), n_envs=1)\n",
    "\n",
    "# Set up the PPO agent with a default neural network\n",
    "model = PPO(\"MlpPolicy\", env, verbose=1)\n",
    "\n",
    "# Train the agent for 20,000 steps\n",
    "model.learn(total_timesteps=20000)\n"
   ]
  },
  {
   "cell_type": "code",
   "execution_count": null,
   "id": "7c286a80",
   "metadata": {},
   "outputs": [],
   "source": [
    "env.unwrapped.config[\"vehicles_count\"] = 30\n",
    "env.unwrapped.config[\"lanes_count\"] = 3\n",
    "env.reset()\n"
   ]
  }
 ],
 "metadata": {
  "kernelspec": {
   "display_name": "Python 3.13 (gym)",
   "language": "python",
   "name": "gym-env"
  },
  "language_info": {
   "codemirror_mode": {
    "name": "ipython",
    "version": 3
   },
   "file_extension": ".py",
   "mimetype": "text/x-python",
   "name": "python",
   "nbconvert_exporter": "python",
   "pygments_lexer": "ipython3",
   "version": "3.13.5"
  }
 },
 "nbformat": 4,
 "nbformat_minor": 5
}
